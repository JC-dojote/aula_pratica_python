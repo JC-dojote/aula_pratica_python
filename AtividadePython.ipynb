{
  "nbformat": 4,
  "nbformat_minor": 0,
  "metadata": {
    "colab": {
      "provenance": [],
      "authorship_tag": "ABX9TyOolUFNMLTEpd6G8g6u4N7s",
      "include_colab_link": true
    },
    "kernelspec": {
      "name": "python3",
      "display_name": "Python 3"
    },
    "language_info": {
      "name": "python"
    }
  },
  "cells": [
    {
      "cell_type": "markdown",
      "metadata": {
        "id": "view-in-github",
        "colab_type": "text"
      },
      "source": [
        "<a href=\"https://colab.research.google.com/github/JC-dojote/aula_pratica_python/blob/main/AtividadePython.ipynb\" target=\"_parent\"><img src=\"https://colab.research.google.com/assets/colab-badge.svg\" alt=\"Open In Colab\"/></a>"
      ]
    },
    {
      "cell_type": "code",
      "execution_count": null,
      "metadata": {
        "colab": {
          "base_uri": "https://localhost:8080/"
        },
        "id": "0EpELKwcFBrJ",
        "outputId": "f6dfb2af-957f-4e3d-ed3b-7c565e6ddddc"
      },
      "outputs": [
        {
          "output_type": "stream",
          "name": "stdout",
          "text": [
            "Valor absoluto (if-else):  10\n",
            "Valor absoluto (ternário):  10\n",
            "Valor absoluto (for):  55\n",
            "Valor absoluto (while):  55\n",
            "Valor absoluto (do-while):  55\n"
          ]
        }
      ],
      "source": [
        "#valor absoluto\n",
        "def abs_if_else(valor):\n",
        "       if valor < 0:\n",
        "           return -valor\n",
        "       else:\n",
        "           return valor\n",
        "\n",
        "#Método usando operador ternário\n",
        "def abs_ternario(valor):\n",
        "     return -valor if valor < 0 else valor\n",
        "\n",
        "#Método para calcular somatório de 0 com for\n",
        "def somatorio_for(n):\n",
        "     soma = 0\n",
        "     for i in range (n+1):\n",
        "          soma += i\n",
        "     return soma\n",
        "\n",
        "#Método para calcular somatório de 0 com while\n",
        "def somatorio_while(n):\n",
        "     soma = 0\n",
        "     i = 0\n",
        "     while i <= n:\n",
        "          soma += i\n",
        "          i += 1\n",
        "     return soma\n",
        "\n",
        "#Método para calcular somatório de 0 até n usando do-while\n",
        "def somatorio_do_while(n):\n",
        "     soma = 0\n",
        "     i = 0\n",
        "     while True:\n",
        "          soma += i\n",
        "          i += 1\n",
        "          if i > n:\n",
        "               break\n",
        "     return soma\n",
        "\n",
        "#testes\n",
        "print(\"Valor absoluto (if-else): \", abs_if_else(-10))\n",
        "print(\"Valor absoluto (ternário): \", abs_ternario(-10))\n",
        "print(\"Valor absoluto (for): \", somatorio_for(10))\n",
        "print(\"Valor absoluto (while): \", somatorio_while(10))\n",
        "print(\"Valor absoluto (do-while): \", somatorio_do_while(10))"
      ]
    }
  ]
}